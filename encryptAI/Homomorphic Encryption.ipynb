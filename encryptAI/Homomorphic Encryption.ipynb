{
 "cells": [
  {
   "cell_type": "code",
   "execution_count": 2,
   "metadata": {},
   "outputs": [
    {
     "name": "stdout",
     "output_type": "stream",
     "text": [
      " S : [[3.33000594e-05 1.96967841e-04 1.58901145e-05 9.10829351e-05]\n",
      " [4.53317739e-05 1.94112511e-04 1.73038286e-04 9.95281018e-05]\n",
      " [1.93546138e-04 3.90193828e-05 2.13092535e-04 8.81439258e-05]\n",
      " [1.22937252e-04 1.84516649e-04 2.80538596e-06 1.56489098e-04]]\n"
     ]
    }
   ],
   "source": [
    "import numpy as np \n",
    "\n",
    "def generate_key(w,m,n):\n",
    "    S = (np.random.rand(m,n)*w/(2**16)) \n",
    "    return S\n",
    "\n",
    "\n",
    "def encrypt(x,S,m,n,w):\n",
    "    assert len(x) == len(S)\n",
    "    e = (np.random.rand(m))\n",
    "    c = np.linalg.inv(S).dot((w*x) +e)  #np.linalg.inv 矩阵求逆 \n",
    "    return c\n",
    "\n",
    "\n",
    "def decrypt(c,S,w):\n",
    "    return (S.dot(c)/w).astype('int')\n",
    "\n",
    "\n",
    "def get_c_star(c,m,l):\n",
    "    c_star = np.zeros(l*m,dtype='int')\n",
    "    for i in range(m):\n",
    "        b = np.array(list(np.binary_repr(np.abs(c[i]))),dtype='int') #np.binary_repr 函数返回给定宽度中十进制数的二进制表示\n",
    "        if(c[i] <0):\n",
    "            b *= -1\n",
    "            c_star[(i*l) + (l -len(b)):(i+1)*l] += b \n",
    "    return c_star\n",
    "\n",
    "def get_S_star(S,m,n,l):\n",
    "    S_star = list()\n",
    "    for i in range(l):\n",
    "        S_star.append(S*2**(l-i-1))\n",
    "    S_star = np.array(S_star).transpose(1,2,0).reshape(m,n*l) # 转置 ,高维张量转置\n",
    "    return S_star\n",
    "\n",
    " \n",
    "x = np.array([0,1,2,5])\n",
    "\n",
    " \n",
    "m = len(x)\n",
    "n = m \n",
    "w = 16\n",
    "\n",
    "S = generate_key(w,m,n)\n",
    " \n",
    "print(' S :',S)"
   ]
  },
  {
   "cell_type": "code",
   "execution_count": 3,
   "metadata": {},
   "outputs": [
    {
     "name": "stdout",
     "output_type": "stream",
     "text": [
      " c : [-545759.12929426 -748584.7452061    29114.5687089  1823047.44579441]\n"
     ]
    }
   ],
   "source": [
    "c = encrypt(x,S,m,n,w)\n",
    "print(' c :',c)"
   ]
  },
  {
   "cell_type": "code",
   "execution_count": 4,
   "metadata": {},
   "outputs": [
    {
     "name": "stdout",
     "output_type": "stream",
     "text": [
      " decrypt c : [0 1 2 5]\n"
     ]
    }
   ],
   "source": [
    "print(' decrypt c :', decrypt(c,S,w))"
   ]
  },
  {
   "cell_type": "code",
   "execution_count": 5,
   "metadata": {},
   "outputs": [
    {
     "name": "stdout",
     "output_type": "stream",
     "text": [
      " decrypt (c + c) : [ 0  2  4 10]\n"
     ]
    }
   ],
   "source": [
    "print(' decrypt (c + c) :' ,decrypt(c+c,S,w))"
   ]
  },
  {
   "cell_type": "code",
   "execution_count": 6,
   "metadata": {},
   "outputs": [
    {
     "name": "stdout",
     "output_type": "stream",
     "text": [
      "decrypt (c*10) : [ 0 10 20 50]\n"
     ]
    }
   ],
   "source": [
    "print('decrypt (c*10) :',decrypt(c*10,S,w))"
   ]
  },
  {
   "cell_type": "code",
   "execution_count": 7,
   "metadata": {},
   "outputs": [
    {
     "name": "stdout",
     "output_type": "stream",
     "text": [
      "#################### Optimizing Encryption ########################\n"
     ]
    }
   ],
   "source": [
    "print(\"#################### Optimizing Encryption ########################\")"
   ]
  },
  {
   "cell_type": "code",
   "execution_count": 13,
   "metadata": {},
   "outputs": [
    {
     "name": "stdout",
     "output_type": "stream",
     "text": [
      "S : [[9.48725856e-05 1.76495317e-04 2.03972659e-04 1.91701357e-04]\n",
      " [1.83401523e-04 5.02720860e-05 1.35012696e-05 6.97875470e-05]\n",
      " [2.40691134e-04 2.39303461e-05 6.07491583e-05 7.57130726e-05]\n",
      " [8.30486449e-05 6.11973887e-05 6.02494789e-05 1.32882347e-04]]\n"
     ]
    }
   ],
   "source": [
    "import numpy as np \n",
    "\n",
    "def generate_key(w,m,n):\n",
    "    S = (np.random.rand(m,n)*w/(2**16))\n",
    "    return S\n",
    "\n",
    "\n",
    "def encrypt(x,S,m,n,w):\n",
    "    assert len(x) == len(S)\n",
    "    \n",
    "    e = (np.random.rand(m))\n",
    "    c = np.linalg.inv(S).dot((w*x) +e)\n",
    "    return c\n",
    "\n",
    "\n",
    "def decrypt(c,S,w):\n",
    "    return (S.dot(c)/w).astype('int')\n",
    "\n",
    " \n",
    "def get_c_star(c,m,l): # 生成辅助变量，有助于快速计算\n",
    "    c_star = np.zeros(l*m,dtype='int')\n",
    "    for i in range(m):\n",
    "        b = np.array(list(np.binary_.repr(np.abs(c[i]))),dtype='int')\n",
    "        if(c[i]<0):\n",
    "            b *= -1\n",
    "        c_star[(i*l) + (l - len(b)):(i+1)*l] += b\n",
    "    \n",
    "    return c_star\n",
    "\n",
    "\n",
    "def switch_key(c,S,m,n,T): \n",
    "    l = int(np.ceil(np.log2(np.max(np.abs(c)))))\n",
    "    c_star = get_c_star(c,m,l)\n",
    "    S_star = get_S_star(S,m,n,l)\n",
    "    n_prime = n +1\n",
    "    \n",
    "    S_prime = np.concatenate((np.eye(m),T.T),0).T #concatenate 连接元素\n",
    "    A = (np.random.rand(n_prime -m,n*l)*10).astype('int')\n",
    "    E = (1*np.random.rand(S_star.shape[0],S_star.shape[1])).astype('int')\n",
    "    M = np.concatenate(((S_star - T.dot(A) + E),A),0)\n",
    "    c_prime = M.dot(c_star)\n",
    "    return c_prime,S_prime\n",
    "\n",
    "def get_S_star(S,m,n,l): # 生成辅助变量，有助于快速计算\n",
    "    S_star = list()\n",
    "    for i in range(l):\n",
    "        S_star.append(S*2**(l-i-1))\n",
    "    S_star = np.array(S_star).transpose(1,2,0).reshape(m,n*l)\n",
    "    return S_star\n",
    "\n",
    "def get_T(n):\n",
    "    n_prime = n +1\n",
    "    T = (10*np.random.rand(n,n_prime-n)).astype('int')\n",
    "    return T\n",
    "\n",
    "def encrypt_via_switch(x,w,m,n,T):\n",
    "    c,S = switch_key(x*w,np.eye(m),m,n,T)\n",
    "    return c,S\n",
    "\n",
    " \n",
    " \n",
    "x = np.array([0,1,2,5])\n",
    "m = len(x)\n",
    "n = m\n",
    "w = 16\n",
    "S = generate_key(w,m,n) \n",
    "print('S :',S)"
   ]
  },
  {
   "cell_type": "code",
   "execution_count": 9,
   "metadata": {},
   "outputs": [
    {
     "name": "stdout",
     "output_type": "stream",
     "text": [
      " T : [[7]\n",
      " [8]\n",
      " [7]\n",
      " [3]]\n"
     ]
    }
   ],
   "source": [
    "T = get_T(n)\n",
    "print(' T :',T)"
   ]
  },
  {
   "cell_type": "code",
   "execution_count": 10,
   "metadata": {},
   "outputs": [
    {
     "name": "stdout",
     "output_type": "stream",
     "text": [
      " C : [-35. -24.  -3.  65.   5.]\n",
      " S : [[1. 0. 0. 0. 7.]\n",
      " [0. 1. 0. 0. 8.]\n",
      " [0. 0. 1. 0. 7.]\n",
      " [0. 0. 0. 1. 3.]]\n"
     ]
    }
   ],
   "source": [
    "c,S = encrypt_via_switch(x,w,m,n,T)\n",
    "print(' C :',c)\n",
    "print(' S :',S)"
   ]
  },
  {
   "cell_type": "code",
   "execution_count": 11,
   "metadata": {},
   "outputs": [
    {
     "name": "stdout",
     "output_type": "stream",
     "text": [
      " decrypt(c + c ,S,w) : [ 0  2  4 10]\n"
     ]
    }
   ],
   "source": [
    "print(' decrypt(c + c ,S,w) :',decrypt(c + c ,S,w) )"
   ]
  },
  {
   "cell_type": "code",
   "execution_count": 12,
   "metadata": {},
   "outputs": [
    {
     "name": "stdout",
     "output_type": "stream",
     "text": [
      "decrypt(c*10,S,w) : [ 0 10 20 50]\n"
     ]
    }
   ],
   "source": [
    "print('decrypt(c*10,S,w) :', decrypt(c*10,S,w))"
   ]
  },
  {
   "cell_type": "code",
   "execution_count": null,
   "metadata": {},
   "outputs": [],
   "source": [
    "T = get_T(n)\n",
    "c,S = encrypt_via_switch(x,w,m,n,T)\n",
    "decrypt(c+c,S,w)\n",
    "decrypt(c*10,S,w)\n"
   ]
  }
 ],
 "metadata": {
  "kernelspec": {
   "display_name": "Python 3",
   "language": "python",
   "name": "python3"
  },
  "language_info": {
   "codemirror_mode": {
    "name": "ipython",
    "version": 3
   },
   "file_extension": ".py",
   "mimetype": "text/x-python",
   "name": "python",
   "nbconvert_exporter": "python",
   "pygments_lexer": "ipython3",
   "version": "3.6.5"
  }
 },
 "nbformat": 4,
 "nbformat_minor": 2
}
