{
 "cells": [
  {
   "cell_type": "code",
   "execution_count": 1,
   "metadata": {},
   "outputs": [
    {
     "name": "stdout",
     "output_type": "stream",
     "text": [
      " S : [[1.90098349e-04 2.16117553e-04 2.26184370e-04 7.23943301e-05]\n",
      " [2.82378228e-05 7.78631786e-05 1.02464999e-04 1.46391502e-04]\n",
      " [8.26262888e-05 2.34986554e-04 1.54207234e-04 4.19161524e-05]\n",
      " [1.61646375e-04 1.41904388e-04 5.81266798e-05 1.40175307e-04]]\n"
     ]
    }
   ],
   "source": [
    "import numpy as np \n",
    "\n",
    "def generate_key(w,m,n):\n",
    "    S = (np.random.rand(m,n)*w/(2**16)) \n",
    "    return S\n",
    "\n",
    "\n",
    "def encrypt(x,S,m,n,w):\n",
    "    assert len(x) == len(S)\n",
    "    e = (np.random.rand(m))\n",
    "    c = np.linalg.inv(S).dot((w*x) +e)\n",
    "    return c\n",
    "\n",
    "def decrypt(c,S,w):\n",
    "    return (S.dot(c)/w).astype('int')\n",
    "\n",
    "\n",
    "def get_c_star(c,m,l):\n",
    "    c_star = np.zeros(l*m,dtype='int')\n",
    "    for i in range(m):\n",
    "        b = np.array(list(np.binary_repr(np.abs(c[i]))),dtype='int')\n",
    "        if(c[i] <0):\n",
    "            b *= -1\n",
    "            c_star[(i*l) + (l -len(b)):(i+1)*l] += b \n",
    "    return c_star\n",
    "\n",
    "def get_S_star(S,m,n,l):\n",
    "    S_star = list()\n",
    "    for i in range(l):\n",
    "        S_star.append(S*2**(l-i-1))\n",
    "    S_star = np.array(S_star).transpose(1,2,0).reshape(m,n*l)\n",
    "    return S_star\n",
    "\n",
    " \n",
    "x = np.array([0,1,2,5])\n",
    "\n",
    "m = len(x)\n",
    "n = m \n",
    "w = 16\n",
    "\n",
    "S = generate_key(w,m,n)\n",
    " \n",
    "print(' S :',S)"
   ]
  },
  {
   "cell_type": "code",
   "execution_count": 3,
   "metadata": {},
   "outputs": [
    {
     "name": "stdout",
     "output_type": "stream",
     "text": [
      " c : [  90031.35387173  440344.29328916 -581827.4899753   268774.85735532]\n"
     ]
    }
   ],
   "source": [
    "c = encrypt(x,S,m,n,w)\n",
    "print(' c :',c)"
   ]
  },
  {
   "cell_type": "code",
   "execution_count": 4,
   "metadata": {},
   "outputs": [
    {
     "name": "stdout",
     "output_type": "stream",
     "text": [
      " decrypt c : [0 1 2 5]\n"
     ]
    }
   ],
   "source": [
    "print(' decrypt c :', decrypt(c,S,w))"
   ]
  },
  {
   "cell_type": "code",
   "execution_count": 5,
   "metadata": {},
   "outputs": [
    {
     "name": "stdout",
     "output_type": "stream",
     "text": [
      " decrypt (c + c) : [ 0  2  4 10]\n"
     ]
    }
   ],
   "source": [
    "print(' decrypt (c + c) :' ,decrypt(c+c,S,w))"
   ]
  },
  {
   "cell_type": "code",
   "execution_count": 6,
   "metadata": {},
   "outputs": [
    {
     "name": "stdout",
     "output_type": "stream",
     "text": [
      "decrypt (c*10) : [ 0 10 20 50]\n"
     ]
    }
   ],
   "source": [
    "print('decrypt (c*10) :',decrypt(c*10,S,w))"
   ]
  },
  {
   "cell_type": "code",
   "execution_count": 7,
   "metadata": {},
   "outputs": [
    {
     "name": "stdout",
     "output_type": "stream",
     "text": [
      "#################### Optimizing Encryption ########################\n"
     ]
    }
   ],
   "source": [
    "print(\"#################### Optimizing Encryption ########################\")"
   ]
  },
  {
   "cell_type": "code",
   "execution_count": 8,
   "metadata": {},
   "outputs": [
    {
     "name": "stdout",
     "output_type": "stream",
     "text": [
      "S : [[1.89345547e-04 1.81025418e-04 1.69338692e-04 1.41322765e-04]\n",
      " [7.78386125e-05 1.59029054e-04 4.41883380e-05 1.66511927e-04]\n",
      " [1.56729061e-04 1.84501124e-04 4.69035281e-05 8.71466788e-06]\n",
      " [2.22525817e-04 8.40780290e-06 1.42122836e-04 1.35294617e-05]]\n"
     ]
    }
   ],
   "source": [
    "import numpy as np \n",
    "\n",
    "def generate_key(w,m,n):\n",
    "    S = (np.random.rand(m,n)*w/(2**16))\n",
    "    return S\n",
    "\n",
    "\n",
    "def encrypt(x,S,m,n,w):\n",
    "    assert len(x) == len(S)\n",
    "    \n",
    "    e = (np.random.rand(m))\n",
    "    c = np.linalg.inv(S).dot((w*x) +e)\n",
    "    return c\n",
    "\n",
    "\n",
    "def decrypt(c,S,w):\n",
    "    return (S.dot(c)/w).astype('int')\n",
    "\n",
    " \n",
    "def get_c_star(c,m,l):\n",
    "    c_star = np.zeros(l*m,dtype='int')\n",
    "    for i in range(m):\n",
    "        b = np.array(list(np.binary_repr(np.abs(c[i]))),dtype='int')\n",
    "        if(c[i]<0):\n",
    "            b *= -1\n",
    "        c_star[(i*l) + (l - len(b)):(i+1)*l] += b\n",
    "    \n",
    "    return c_star\n",
    "\n",
    "\n",
    "def switch_key(c,S,m,n,T):\n",
    "    l = int(np.ceil(np.log2(np.max(np.abs(c)))))\n",
    "    c_star = get_c_star(c,m,l)\n",
    "    S_star = get_S_star(S,m,n,l)\n",
    "    n_prime = n +1\n",
    "    \n",
    "    S_prime = np.concatenate((np.eye(m),T.T),0).T\n",
    "    A = (np.random.rand(n_prime -m,n*l)*10).astype('int')\n",
    "    E = (1*np.random.rand(S_star.shape[0],S_star.shape[1])).astype('int')\n",
    "    M = np.concatenate(((S_star - T.dot(A) + E),A),0)\n",
    "    c_prime = M.dot(c_star)\n",
    "    return c_prime,S_prime\n",
    "\n",
    "def get_S_star(S,m,n,l):\n",
    "    S_star = list()\n",
    "    for i in range(l):\n",
    "        S_star.append(S*2**(l-i-1))\n",
    "    S_star = np.array(S_star).transpose(1,2,0).reshape(m,n*l)\n",
    "    return S_star\n",
    "\n",
    "def get_T(n):\n",
    "    n_prime = n +1\n",
    "    T = (10*np.random.rand(n,n_prime-n)).astype('int')\n",
    "    return T\n",
    "\n",
    "def encrypt_via_switch(x,w,m,n,T):\n",
    "    c,S = switch_key(x*w,np.eye(m),m,n,T)\n",
    "    return c,S\n",
    "\n",
    " \n",
    " \n",
    "x = np.array([0,1,2,5])\n",
    "m = len(x)\n",
    "n = m\n",
    "w = 16\n",
    "S = generate_key(w,m,n) \n",
    "print('S :',S)"
   ]
  },
  {
   "cell_type": "code",
   "execution_count": 9,
   "metadata": {},
   "outputs": [
    {
     "name": "stdout",
     "output_type": "stream",
     "text": [
      " T : [[7]\n",
      " [8]\n",
      " [7]\n",
      " [3]]\n"
     ]
    }
   ],
   "source": [
    "T = get_T(n)\n",
    "print(' T :',T)"
   ]
  },
  {
   "cell_type": "code",
   "execution_count": 10,
   "metadata": {},
   "outputs": [
    {
     "name": "stdout",
     "output_type": "stream",
     "text": [
      " C : [-35. -24.  -3.  65.   5.]\n",
      " S : [[1. 0. 0. 0. 7.]\n",
      " [0. 1. 0. 0. 8.]\n",
      " [0. 0. 1. 0. 7.]\n",
      " [0. 0. 0. 1. 3.]]\n"
     ]
    }
   ],
   "source": [
    "c,S = encrypt_via_switch(x,w,m,n,T)\n",
    "print(' C :',c)\n",
    "print(' S :',S)"
   ]
  },
  {
   "cell_type": "code",
   "execution_count": 11,
   "metadata": {},
   "outputs": [
    {
     "name": "stdout",
     "output_type": "stream",
     "text": [
      " decrypt(c + c ,S,w) : [ 0  2  4 10]\n"
     ]
    }
   ],
   "source": [
    "print(' decrypt(c + c ,S,w) :',decrypt(c + c ,S,w) )"
   ]
  },
  {
   "cell_type": "code",
   "execution_count": 12,
   "metadata": {},
   "outputs": [
    {
     "name": "stdout",
     "output_type": "stream",
     "text": [
      "decrypt(c*10,S,w) : [ 0 10 20 50]\n"
     ]
    }
   ],
   "source": [
    "print('decrypt(c*10,S,w) :', decrypt(c*10,S,w))"
   ]
  },
  {
   "cell_type": "code",
   "execution_count": null,
   "metadata": {},
   "outputs": [],
   "source": [
    "T = get_T(n)\n",
    "c,S = encrypt_via_switch(x,w,m,n,T)\n",
    "decrypt(c+c,S,w)\n",
    "decrypt(c*10,S,w)\n"
   ]
  }
 ],
 "metadata": {
  "kernelspec": {
   "display_name": "Python 3",
   "language": "python",
   "name": "python3"
  },
  "language_info": {
   "codemirror_mode": {
    "name": "ipython",
    "version": 3
   },
   "file_extension": ".py",
   "mimetype": "text/x-python",
   "name": "python",
   "nbconvert_exporter": "python",
   "pygments_lexer": "ipython3",
   "version": "3.6.5"
  }
 },
 "nbformat": 4,
 "nbformat_minor": 2
}
